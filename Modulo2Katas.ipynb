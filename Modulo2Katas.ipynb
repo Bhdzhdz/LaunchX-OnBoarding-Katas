{
 "cells": [
  {
   "cell_type": "markdown",
   "id": "63969198-c2e2-4581-a495-71dbe7963f06",
   "metadata": {},
   "source": [
    "# Ejercicio - Crear un paquete\n",
    "\n",
    "En este ejercicio, aprenderás a utilizar entornos virtuales como una\n",
    "forma para no afectar a los paquetes instalados globalmente u otros\n",
    "programas que se ejecutan en tu máquina.\n",
    "\n",
    "*Para este ejercicio es necesario que lo ejecutes desde la terminal,\n",
    "línea de comandos, cmd, consola, cli, etc. de tu computadora, sé que es\n",
    "desafíante, pero no te preocupes ¡¡Sé que puedes lograrlo!!*"
   ]
  },
  {
   "cell_type": "markdown",
   "id": "048fad2b",
   "metadata": {},
   "source": [
    "## Crear un entorno virtual\n",
    "\n",
    "Crea un entorno virtual mediante `venv`\n",
    "\n",
    "-   Ejecutar en su terminal: `python3 -m venv env`\n",
    "        \n",
    "           python3 -m venv env \n",
    "\n",
    "    Ahora tienes un directorio (folder) `env` creado en tu terminal.\n",
    "\n",
    "-   Ejecuta el comando para activar el entorno virtual:\n",
    "    `source env/bin/activate`\n",
    "\n",
    "        source env/bin/activate\n",
    "        # Windows\n",
    "        env\\bin\\activate\n",
    "\n",
    "        # Linux, WSL or macOS\n",
    "        source env/bin/activate\n",
    "\n",
    "Ahora ves en tu terminal `(env)`. Eso significa que has activado tu\n",
    "entorno virtual y se ha aislado del resto de tu máquina."
   ]
  },
  {
   "cell_type": "code",
   "execution_count": 1,
   "id": "1d46e4f6",
   "metadata": {},
   "outputs": [],
   "source": [
    "! python3 -m venv env \n",
    "! source env/bin/activate"
   ]
  },
  {
   "cell_type": "markdown",
   "id": "173a9c59",
   "metadata": {},
   "source": [
    "## Instalar una biblioteca\n",
    "\n",
    "Ahora que estás dentro de tu entorno virtual, puedes instalar una\n",
    "biblioteca y saber que la biblioteca solo existirá en el entorno\n",
    "virtual.\n",
    "\n",
    "-   Ejecuta el comando `pip freeze` para ver las bibliotecas instaladas\n",
    "    en tu entorno:\n",
    "\n",
    "        pip freeze\n",
    "\n",
    "    No deberías obtener respuesta. A continuación, veamos cómo cambia la\n",
    "    salida de `pip freeze` cuando se agrega una biblioteca (un paquete).\n",
    "\n",
    "-   Ejecuta el comando `pip install` para instalar una biblioteca:\n",
    "    `pip install python-dateutil`\n",
    "\n",
    "-   Un gran mensaje de salida de texto dice que está instalando tu\n",
    "    biblioteca, y debe terminar con la siguiente oración:\n",
    "\n",
    "        Successfully installed python-dateutil-2.8.2 six-1.16.0\n",
    "\n",
    "-   Vuelve a ejecutar `pip freeze` para ver cómo ha cambiado tu lista de\n",
    "    bibliotecas: `pip freeze`\n",
    "\n",
    "-   Ahora deberías ver la siguiente lista:\n",
    "    `python-dateutil==2.8.2     six==1.16.0`"
   ]
  },
  {
   "cell_type": "code",
   "execution_count": 2,
   "id": "5915cf9d",
   "metadata": {},
   "outputs": [],
   "source": [
    "! source env/bin/activate \\\n",
    "&& pip freeze\n"
   ]
  },
  {
   "cell_type": "code",
   "execution_count": 3,
   "id": "fb287174",
   "metadata": {},
   "outputs": [
    {
     "name": "stdout",
     "output_type": "stream",
     "text": [
      "Collecting python-dateutil\n",
      "  Using cached python_dateutil-2.8.2-py2.py3-none-any.whl (247 kB)\n",
      "Collecting six>=1.5\n",
      "  Using cached six-1.16.0-py2.py3-none-any.whl (11 kB)\n",
      "Installing collected packages: six, python-dateutil\n",
      "Successfully installed python-dateutil-2.8.2 six-1.16.0\n"
     ]
    }
   ],
   "source": [
    "! source env/bin/activate \\\n",
    "&& pip install python-dateutil"
   ]
  },
  {
   "cell_type": "code",
   "execution_count": 4,
   "id": "5424f9b0",
   "metadata": {},
   "outputs": [
    {
     "name": "stdout",
     "output_type": "stream",
     "text": [
      "python-dateutil==2.8.2\n",
      "six==1.16.0\n"
     ]
    }
   ],
   "source": [
    "! source env/bin/activate \\\n",
    "&& pip freeze"
   ]
  },
  {
   "cell_type": "markdown",
   "id": "b42d26eb",
   "metadata": {},
   "source": [
    "### Desactivar un entorno virtual\n",
    "\n",
    "Hasta ahora, has creado un entorno virtual y le has agregado un paquete.\n",
    "Sin embargo, es posible que estés trabajando en varios proyectos de\n",
    "Python y necesites cambiar entre ellos. Para hacer eso, debes salir\n",
    "(desactivar) tu entorno virtual.\n",
    "\n",
    "Ejecuta el comando `deactivate`:\n",
    "\n",
    "    deactivate\n",
    "\n",
    "Observa cómo cambia el mensaje de tu terminal `(env)` a cómo se veía\n",
    "antes.\n",
    "\n",
    "¡Felicidades! Has logrado crear y usar correctamente un entorno virtual.\n",
    "\n",
    "Curso Propedútico de Python para Launch X - Innovacción Virtual.\n",
    "\n",
    "Material desarrollado con base en los contenidos de MSLearn y la\n",
    "metáfora de LaunchX, traducción e implementación por: Fernanda Ochoa -\n",
    "Learning Producer de LaunchX.\n",
    "\n",
    "Redes: \\* GitHub: [FernandaOchoa](https://github.com/FernandaOchoa) \\*\n",
    "Twitter: [@imonsh](https://twitter.com/imonsh) \\* Instagram:\n",
    "[fherz8a](https://www.instagram.com/fherz8a/)"
   ]
  }
 ],
 "metadata": {
  "interpreter": {
   "hash": "e7370f93d1d0cde622a1f8e1c04877d8463912d04d973331ad4851f04de6915a"
  },
  "kernelspec": {
   "display_name": "Python 3.10.2 64-bit",
   "language": "python",
   "name": "python3"
  },
  "language_info": {
   "codemirror_mode": {
    "name": "ipython",
    "version": 3
   },
   "file_extension": ".py",
   "mimetype": "text/x-python",
   "name": "python",
   "nbconvert_exporter": "python",
   "pygments_lexer": "ipython3",
   "version": "3.10.2"
  }
 },
 "nbformat": 4,
 "nbformat_minor": 5
}
